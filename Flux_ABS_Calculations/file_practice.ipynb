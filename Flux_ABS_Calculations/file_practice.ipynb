{
 "cells": [
  {
   "cell_type": "code",
   "execution_count": 5,
   "metadata": {},
   "outputs": [
    {
     "name": "stdout",
     "output_type": "stream",
     "text": [
      "[0.259  0.259  0.259  0.238  0.238  0.238  0.219  0.219  0.188  0.203\n",
      " 0.203  0.203  0.172  0.18   0.18   0.18   0.18   0.156  0.165  0.165\n",
      " 0.165  0.141  0.148  0.148  0.148  0.148  0.126  0.134  0.134  0.134\n",
      " 0.134  0.115  0.12   0.12   0.12   0.12   0.1    0.109  0.109  0.109\n",
      " 0.109  0.109  0.089  0.095  0.095  0.095  0.095  0.078  0.083  0.083\n",
      " 0.083  0.083  0.083  0.083  0.068  0.072  0.072  0.072  0.072  0.062\n",
      " 0.065  0.065  0.065  0.065  0.065  0.056  0.059  0.059  0.058  0.058\n",
      " 0.059  0.059  0.059  0.046  0.05   0.05   0.05   0.05   0.05   0.039\n",
      " 0.0425 0.0425 0.0425 0.0425 0.0425 0.034  0.0355 0.0355 0.0355 0.0355\n",
      " 0.03   0.032  0.032  0.032  0.032  0.026  0.028  0.028  0.028  0.028\n",
      " 0.028  0.023  0.025  0.025  0.025  0.021  0.022  0.022  0.022  0.019\n",
      " 0.02   0.02   0.02   0.018  0.183  0.0183 0.016  0.0163 0.0163 0.014\n",
      " 0.0143 0.013  0.012  0.012  0.012  0.01   0.009  0.008  0.008  0.006\n",
      " 0.238  0.203  0.203  0.18   0.165  0.148  0.148  0.134  0.134  0.12\n",
      " 0.12   0.109  0.109  0.095  0.095  0.083  0.083  0.072  0.072  0.072\n",
      " 0.072  0.062  0.065  0.065  0.065  0.059  0.058  0.059  0.05   0.05\n",
      " 0.05   0.05   0.0425 0.0425 0.0355 0.0355 0.0355 0.032  0.032  0.028\n",
      " 0.028  0.025  0.025  0.022  0.022  0.02   0.02   0.018  0.016  0.014\n",
      " 0.013  0.012  0.012  0.01  ]\n"
     ]
    },
    {
     "data": {
      "image/png": "[encoded data removed]",
      "text/plain": [
       "<Figure size 504x311.111 with 1 Axes>"
      ]
     },
     "metadata": {},
     "output_type": "display_data"
    }
   ],
   "source": [
    "#********************************************************************\n",
    "# Note: attempt to do everything in 10 except read more data from a file\n",
    "#********************************************************************\n",
    "\n",
    "#Global Constants\n",
    "kB       = 1.38064852*10**(-23) # m^2 kg s^-2 K^-1 (boltzmann constant)\n",
    "M        = 171*1.66054e-27      # mass of Yb in kg\n",
    "sigma    = 1.5*10**(-19)        # cross sectional area of an atom\n",
    "\n",
    "#Libraries\n",
    "import matplotlib.pyplot as plt #plotting\n",
    "import numpy as np\n",
    "import matplotlib.pylab as pylab #plotting\n",
    "import scipy.integrate as integrate #integrating\n",
    "from numpy import sqrt, sin, cos, pi\n",
    "from decimal import Decimal\n",
    "import pandas as pd\n",
    "\n",
    "#formatting plots\n",
    "pylab.rcParams['figure.figsize'] = 7,7/1.62\n",
    "pylab.rcParams['figure.autolayout'] = False\n",
    "pylab.rcParams.update({'axes.labelsize': 20})\n",
    "pylab.rcParams.update({'xtick.labelsize': 15})\n",
    "pylab.rcParams.update({'ytick.labelsize': 15})\n",
    "pylab.rcParams.update({'lines.linewidth': 1.0})\n",
    "pylab.rcParams.update({'axes.titlesize': 20.0})\n",
    "\n",
    "pylab.rcParams.update({'ytick.direction': 'in'}) \n",
    "pylab.rcParams.update({'xtick.major.size': 7})   \n",
    "pylab.rcParams.update({'xtick.direction': 'in'}) \n",
    "pylab.rcParams.update({'xtick.top': True}) \n",
    "pylab.rcParams.update({'xtick.minor.bottom': True}) \n",
    "\n",
    "plt.ylabel('Flux $s^{-1}$',fontsize=16)\n",
    "plt.xlabel('temperature C$^\\circ$', fontsize=16)\n",
    "\n",
    "\n",
    "#reading data from a file\n",
    "data = pd.read_csv(\"C:/Users/Lab 2/Desktop/kayla//radiii.csv\", header=0)\n",
    "\n",
    "rOD = np.array(data['rOD'])\n",
    "rID = np.array(data['rID'])"
   ]
  },
  {
   "cell_type": "code",
   "execution_count": null,
   "metadata": {},
   "outputs": [],
   "source": []
  }
 ],
 "metadata": {
  "kernelspec": {
   "display_name": "Python 3",
   "language": "python",
   "name": "python3"
  },
  "language_info": {
   "codemirror_mode": {
    "name": "ipython",
    "version": 3
   },
   "file_extension": ".py",
   "mimetype": "text/x-python",
   "name": "python",
   "nbconvert_exporter": "python",
   "pygments_lexer": "ipython3",
   "version": "3.6.5"
  }
 },
 "nbformat": 4,
 "nbformat_minor": 2
}
