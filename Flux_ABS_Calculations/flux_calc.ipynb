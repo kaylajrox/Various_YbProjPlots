{
 "cells": [
  {
   "cell_type": "code",
   "execution_count": 2,
   "metadata": {},
   "outputs": [
    {
     "name": "stdout",
     "output_type": "stream",
     "text": [
      "4.15E+12\n"
     ]
    }
   ],
   "source": [
    "#**********************************************************\n",
    "#**********************************************************\n",
    "#     This Program Calculates the preliminary\n",
    "#**********************************************************\n",
    "#**********************************************************\n",
    "\n",
    "#Global Constants\n",
    "kB = 1.38064852*10**(-23) # m^2 kg s^-2 K^-1 (boltzmann constant)\n",
    "M  = 171*1.66054e-27 # mass of Yb in kg\n",
    "\n",
    "#Libraries\n",
    "import matplotlib.pyplot as plt #plotting\n",
    "import numpy as np\n",
    "import matplotlib.pylab as pylab #plotting\n",
    "import scipy.integrate as integrate #integrating\n",
    "from numpy import sqrt, sin, cos, pi\n",
    "from decimal import Decimal\n",
    "\n",
    "#Set Parameters\n",
    "lowT = 300\n",
    "hghT= 600\n",
    "setps = 100\n",
    "T_oven = np.linspace(lowT,hghT,steps)\n",
    "N = 5 #number of holes\n",
    "\n",
    "#Dimensional Parameters (m)\n",
    "L = 12.7 * 10**(-3)\n",
    "r = .05*10**(-3)\n",
    "A = pi*r**2\n",
    "\n",
    "# Convert set temperature in Celcius to Kelvin\n",
    "T = T_oven + 273\n",
    "\n",
    "# Calculations\n",
    "theta_mx = np.arctan(r/L) #maximum angle of an atom going through a tube\n",
    "P = 10**(5.006 + 9.111 - 8111/T -1.0849*np.log10(T)) #pressure calculation\n",
    "v_tilde = np.sqrt(kB*T/M)\n",
    "n_0 = P/(kB*T)\n",
    "\n",
    "# pick from any of these three for flux\n",
    "v_mp  = np.sqrt(2)*v_tilde\n",
    "v_avg = np.sqrt(8/(np.pi))*v_tilde\n",
    "v_rms = np.sqrt(3)*v_tilde\n",
    "\n",
    "I = integrate.quad(lambda x: sin(x)*cos(x)/2, 0, theta_mx)\n",
    "Flux = N*v_mp*n_0*A*I[0] #flux out of nozzle\n",
    "print('%.2E' % Decimal(Flux))\n"
   ]
  },
  {
   "cell_type": "code",
   "execution_count": 17,
   "metadata": {},
   "outputs": [
    {
     "name": "stdout",
     "output_type": "stream",
     "text": [
      "0.011999424049761282\n"
     ]
    }
   ],
   "source": []
  },
  {
   "cell_type": "code",
   "execution_count": null,
   "metadata": {},
   "outputs": [],
   "source": [
    "# Flux = v_mp*n_0*A_open*I[0]"
   ]
  }
 ],
 "metadata": {
  "kernelspec": {
   "display_name": "Python 3",
   "language": "python",
   "name": "python3"
  },
  "language_info": {
   "codemirror_mode": {
    "name": "ipython",
    "version": 3
   },
   "file_extension": ".py",
   "mimetype": "text/x-python",
   "name": "python",
   "nbconvert_exporter": "python",
   "pygments_lexer": "ipython3",
   "version": "3.6.5"
  }
 },
 "nbformat": 4,
 "nbformat_minor": 2
}
