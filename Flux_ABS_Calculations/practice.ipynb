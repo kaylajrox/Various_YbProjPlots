{
 "cells": [
  {
   "cell_type": "code",
   "execution_count": 24,
   "metadata": {},
   "outputs": [
    {
     "name": "stdout",
     "output_type": "stream",
     "text": [
      "[ 7.  8.  9. 10.  8.  9. 10. 11.  9. 10. 11. 12. 10. 11. 12. 13.]\n",
      "[[ 7.  8.]\n",
      " [ 9. 10.]\n",
      " [ 8.  9.]\n",
      " [10. 11.]\n",
      " [ 9. 10.]\n",
      " [11. 12.]\n",
      " [10. 11.]\n",
      " [12. 13.]]\n"
     ]
    }
   ],
   "source": [
    "\n",
    "#Libraries\n",
    "import matplotlib.pyplot as plt #plotting\n",
    "import numpy as np\n",
    "import matplotlib.pylab as pylab #plotting\n",
    "import scipy.integrate as integrate #integrating\n",
    "from numpy import sqrt, sin, cos, pi\n",
    "from decimal import Decimal\n",
    "\n",
    "arr1 = np.array([1,2,3,4])\n",
    "arr2 = np.array([6,7,8,9])\n",
    "\n",
    "p = np.array([])\n",
    "for i in range(0,len(arr1)):\n",
    "    for j in range(0,len(arr2)):\n",
    "        x = arr1[i]+arr2[j]\n",
    "        p = np.append(p,x)\n",
    "print(p)\n",
    "\n",
    "p_new = np.reshape(p,(-1,2))\n",
    "print(p_new)"
   ]
  },
  {
   "cell_type": "code",
   "execution_count": null,
   "metadata": {},
   "outputs": [],
   "source": []
  }
 ],
 "metadata": {
  "kernelspec": {
   "display_name": "Python 3",
   "language": "python",
   "name": "python3"
  },
  "language_info": {
   "codemirror_mode": {
    "name": "ipython",
    "version": 3
   },
   "file_extension": ".py",
   "mimetype": "text/x-python",
   "name": "python",
   "nbconvert_exporter": "python",
   "pygments_lexer": "ipython3",
   "version": "3.6.5"
  }
 },
 "nbformat": 4,
 "nbformat_minor": 2
}
