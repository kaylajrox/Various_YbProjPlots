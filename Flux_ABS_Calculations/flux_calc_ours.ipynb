{
 "cells": [
  {
   "cell_type": "code",
   "execution_count": 5,
   "metadata": {},
   "outputs": [
    {
     "data": {
      "text/plain": [
       "[<matplotlib.lines.Line2D at 0x119b13f7a20>]"
      ]
     },
     "execution_count": 5,
     "metadata": {},
     "output_type": "execute_result"
    },
    {
     "data": {
      "image/png": "[encoded data removed]",
      "text/plain": [
       "<Figure size 432x288 with 1 Axes>"
      ]
     },
     "metadata": {},
     "output_type": "display_data"
    }
   ],
   "source": [
    "#********************************************************************\n",
    "\n",
    "# This code is for our parameters\n",
    "\n",
    "#********************************************************************\n",
    "\n",
    "#Global Constants\n",
    "kB = 1.38064852*10**(-23) # m^2 kg s^-2 K^-1 (boltzmann constant)\n",
    "M  = 171*1.66054e-27 # mass of Yb in kg\n",
    "sigma    = 1.5*10**(-19)        # cross sectional area of an atom\n",
    "\n",
    "#Libraries\n",
    "import matplotlib.pyplot as plt #plotting\n",
    "import numpy as np\n",
    "import matplotlib.pylab as pylab #plotting\n",
    "import scipy.integrate as integrate #integrating\n",
    "from numpy import sqrt, sin, cos, pi\n",
    "from decimal import Decimal\n",
    "\n",
    "#Set Parameters\n",
    "lowT = 400\n",
    "hghT= 600\n",
    "steps = 100\n",
    "T_oven = np.linspace(lowT,hghT,steps)\n",
    "N = 5 #number of holes\n",
    "\n",
    "T = T_oven + 273\n",
    "\n",
    "#Dimensional Parameters (m)\n",
    "L = 12.7 * 10**(-3)\n",
    "r = .05*10**(-3)\n",
    "A = pi*r**2\n",
    "\n",
    "#Dimensional Parameters of DPT (m)\n",
    "R_DPT         = 2.5*10**(-3)             # radius of DPT\n",
    "L_DPT         = 518*10**(-3)             # length from the end of nozzle to the end of DPT   \n",
    "area_DPT = pi*R_DPT**(2)\n",
    "theta_DPT = np.arctan(R_DPT/L_DPT)\n",
    "\n",
    "# Calculations\n",
    "theta_mx = np.arctan(r/L) #maximum angle of an atom going through a tube\n",
    "P = 10**(5.006 + 9.111 - 8111/T -1.0849*np.log10(T)) #pressure calculation\n",
    "v_tilde = np.sqrt(kB*T/M)\n",
    "n_0 = P/(kB*T)\n",
    "MFP      = 1/(n_0*sigma)                                    # mean free path of the atoms\n",
    "f = L/MFP\n",
    "r_sld_angles = (theta_DPT)**2/(theta_mx)**2        # Area Ratio of theta_DPT and theta_DPT_fud\n",
    "area_ratio       = area_DPT/(N*A)                           # Area Ratio\n",
    "\n",
    "# pick from any of these three for flux\n",
    "v_mp  = np.sqrt(2)*v_tilde\n",
    "v_avg = np.sqrt(8/(np.pi))*v_tilde\n",
    "v_rms = np.sqrt(3)*v_tilde\n",
    "\n",
    "I = integrate.quad(lambda x: sin(x)*cos(x)/2, 0, theta_mx)\n",
    "Flux1 = N*A*v_mp*n_0*I[0]*area_ratio*r_sld_angles \n",
    "\n",
    "Flux = Flux1*(1-f)\n",
    "\n",
    "plt.ylim(ymin=0,ymax = .5*10**(13))\n",
    "plt.xlim(xmin=lowT,xmax=hghT)\n",
    "plt.plot(T_oven,Flux)"
   ]
  },
  {
   "cell_type": "code",
   "execution_count": null,
   "metadata": {},
   "outputs": [],
   "source": []
  }
 ],
 "metadata": {
  "kernelspec": {
   "display_name": "Python 3",
   "language": "python",
   "name": "python3"
  },
  "language_info": {
   "codemirror_mode": {
    "name": "ipython",
    "version": 3
   },
   "file_extension": ".py",
   "mimetype": "text/x-python",
   "name": "python",
   "nbconvert_exporter": "python",
   "pygments_lexer": "ipython3",
   "version": "3.6.5"
  }
 },
 "nbformat": 4,
 "nbformat_minor": 2
}
